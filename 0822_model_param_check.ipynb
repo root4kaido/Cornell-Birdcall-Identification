{
 "cells": [
  {
   "cell_type": "code",
   "execution_count": 1,
   "metadata": {},
   "outputs": [
    {
     "name": "stdout",
     "output_type": "stream",
     "text": [
      "Defaulting to user installation because normal site-packages is not writeable\n",
      "Processing /home/knikaido/work/Cornell-Birdcall-Identification/data/resnest50-fast-package/resnest-0.0.6b20200701/resnest\n",
      "Requirement already satisfied: numpy in /usr/local/lib/python3.6/dist-packages (from resnest==0.0.6b20200822) (1.17.4)\n",
      "Requirement already satisfied: tqdm in /home/user/.local/lib/python3.6/site-packages (from resnest==0.0.6b20200822) (4.19.9)\n",
      "Requirement already satisfied: nose in /home/user/.local/lib/python3.6/site-packages (from resnest==0.0.6b20200822) (1.3.7)\n",
      "Requirement already satisfied: torch>=1.0.0 in /home/user/.local/lib/python3.6/site-packages (from resnest==0.0.6b20200822) (1.4.0)\n",
      "Requirement already satisfied: Pillow in /usr/local/lib/python3.6/dist-packages (from resnest==0.0.6b20200822) (7.1.2)\n",
      "Requirement already satisfied: scipy in /usr/local/lib/python3.6/dist-packages (from resnest==0.0.6b20200822) (1.1.0)\n",
      "Requirement already satisfied: requests in /usr/local/lib/python3.6/dist-packages (from resnest==0.0.6b20200822) (2.24.0)\n",
      "Requirement already satisfied: chardet<4,>=3.0.2 in /usr/local/lib/python3.6/dist-packages (from requests->resnest==0.0.6b20200822) (3.0.4)\n",
      "Requirement already satisfied: urllib3!=1.25.0,!=1.25.1,<1.26,>=1.21.1 in /usr/local/lib/python3.6/dist-packages (from requests->resnest==0.0.6b20200822) (1.25.9)\n",
      "Requirement already satisfied: idna<3,>=2.5 in /usr/local/lib/python3.6/dist-packages (from requests->resnest==0.0.6b20200822) (2.9)\n",
      "Requirement already satisfied: certifi>=2017.4.17 in /usr/local/lib/python3.6/dist-packages (from requests->resnest==0.0.6b20200822) (2020.4.5.2)\n",
      "Building wheels for collected packages: resnest\n",
      "  Building wheel for resnest (setup.py) ... \u001b[?25ldone\n",
      "\u001b[?25h  Created wheel for resnest: filename=resnest-0.0.6b20200822-py3-none-any.whl size=30753 sha256=f864e9da3fab325bd5c6bca54d129f5bbac1f39cd250d7be283f95d7afd3eac4\n",
      "  Stored in directory: /tmp/pip-ephem-wheel-cache-2bluy8ev/wheels/98/b8/20/14b175a058326076510265be935570257f33b40bafba7255a9\n",
      "Successfully built resnest\n",
      "Installing collected packages: resnest\n",
      "  Attempting uninstall: resnest\n",
      "    Found existing installation: resnest 0.0.6b20200822\n",
      "    Uninstalling resnest-0.0.6b20200822:\n",
      "      Successfully uninstalled resnest-0.0.6b20200822\n",
      "Successfully installed resnest-0.0.6b20200822\n",
      "\u001b[33mWARNING: You are using pip version 20.1.1; however, version 20.2.2 is available.\n",
      "You should consider upgrading via the '/usr/bin/python3 -m pip install --upgrade pip' command.\u001b[0m\n",
      "Defaulting to user installation because normal site-packages is not writeable\n",
      "Requirement already satisfied: torch==1.4.0 in /home/user/.local/lib/python3.6/site-packages (1.4.0)\n",
      "\u001b[33mWARNING: You are using pip version 20.1.1; however, version 20.2.2 is available.\n",
      "You should consider upgrading via the '/usr/bin/python3 -m pip install --upgrade pip' command.\u001b[0m\n",
      "Defaulting to user installation because normal site-packages is not writeable\n",
      "Requirement already satisfied: opencv-python in /home/user/.local/lib/python3.6/site-packages (4.4.0.42)\n",
      "Requirement already satisfied: numpy>=1.13.3 in /usr/local/lib/python3.6/dist-packages (from opencv-python) (1.17.4)\n",
      "\u001b[33mWARNING: You are using pip version 20.1.1; however, version 20.2.2 is available.\n",
      "You should consider upgrading via the '/usr/bin/python3 -m pip install --upgrade pip' command.\u001b[0m\n",
      "Defaulting to user installation because normal site-packages is not writeable\n",
      "Requirement already satisfied: slackweb in /home/user/.local/lib/python3.6/site-packages (1.0.5)\n",
      "\u001b[33mWARNING: You are using pip version 20.1.1; however, version 20.2.2 is available.\n",
      "You should consider upgrading via the '/usr/bin/python3 -m pip install --upgrade pip' command.\u001b[0m\n",
      "Defaulting to user installation because normal site-packages is not writeable\n",
      "Requirement already satisfied: torchvision==0.2.2 in /home/user/.local/lib/python3.6/site-packages (0.2.2)\n",
      "Requirement already satisfied: torch in /home/user/.local/lib/python3.6/site-packages (from torchvision==0.2.2) (1.4.0)\n",
      "Requirement already satisfied: tqdm==4.19.9 in /home/user/.local/lib/python3.6/site-packages (from torchvision==0.2.2) (4.19.9)\n",
      "Requirement already satisfied: pillow>=4.1.1 in /usr/local/lib/python3.6/dist-packages (from torchvision==0.2.2) (7.1.2)\n",
      "Requirement already satisfied: numpy in /usr/local/lib/python3.6/dist-packages (from torchvision==0.2.2) (1.17.4)\n",
      "Requirement already satisfied: six in /usr/local/lib/python3.6/dist-packages (from torchvision==0.2.2) (1.11.0)\n",
      "\u001b[33mWARNING: You are using pip version 20.1.1; however, version 20.2.2 is available.\n",
      "You should consider upgrading via the '/usr/bin/python3 -m pip install --upgrade pip' command.\u001b[0m\n",
      "Defaulting to user installation because normal site-packages is not writeable\n",
      "Requirement already satisfied: torch_summary in /home/user/.local/lib/python3.6/site-packages (1.4.1)\n",
      "\u001b[33mWARNING: You are using pip version 20.1.1; however, version 20.2.2 is available.\n",
      "You should consider upgrading via the '/usr/bin/python3 -m pip install --upgrade pip' command.\u001b[0m\n"
     ]
    }
   ],
   "source": [
    "!pip install /home/knikaido/work/Cornell-Birdcall-Identification/data/resnest50-fast-package/resnest-0.0.6b20200701/resnest/\n",
    "!pip install torch==1.4.0\n",
    "!pip install opencv-python\n",
    "!pip install slackweb\n",
    "!pip install torchvision==0.2.2\n",
    "!pip install torch_summary"
   ]
  },
  {
   "cell_type": "code",
   "execution_count": 3,
   "metadata": {},
   "outputs": [],
   "source": [
    "from pathlib import Path\n",
    "import numpy as np\n",
    "import pandas as pd\n",
    "import typing as tp\n",
    "import yaml\n",
    "import random\n",
    "import os\n",
    "import sys\n",
    "import soundfile as sf\n",
    "import librosa\n",
    "import cv2\n",
    "import matplotlib.pyplot as plt\n",
    "\n",
    "import torch\n",
    "import torch.nn as nn\n",
    "import torch.nn.functional as F\n",
    "import torch.utils.data as data\n",
    "import resnest.torch as resnest_torch\n",
    "\n",
    "from torchvision import models\n",
    "\n",
    "from sklearn.model_selection import StratifiedKFold\n",
    "from sklearn.metrics import f1_score\n",
    "from radam import RAdam\n",
    "\n",
    "from torchsummary import summary\n"
   ]
  },
  {
   "cell_type": "code",
   "execution_count": null,
   "metadata": {},
   "outputs": [],
   "source": []
  },
  {
   "cell_type": "code",
   "execution_count": 3,
   "metadata": {},
   "outputs": [],
   "source": [
    "with open('config.yml', 'r') as yml:\n",
    "    settings = yaml.safe_load(yml)"
   ]
  },
  {
   "cell_type": "code",
   "execution_count": null,
   "metadata": {},
   "outputs": [],
   "source": []
  },
  {
   "cell_type": "code",
   "execution_count": 4,
   "metadata": {},
   "outputs": [],
   "source": [
    "def set_seed(seed: int = 42):\n",
    "    random.seed(seed)\n",
    "    np.random.seed(seed)\n",
    "    os.environ[\"PYTHONHASHSEED\"] = str(seed)\n",
    "    torch.manual_seed(seed)\n",
    "    torch.cuda.manual_seed(seed)  # type: ignore\n",
    "#     torch.backends.cudnn.deterministic = True  # type: ignore\n",
    "#     torch.backends.cudnn.benchmark = True  # type: ignore\n",
    "    "
   ]
  },
  {
   "cell_type": "code",
   "execution_count": 5,
   "metadata": {},
   "outputs": [],
   "source": [
    "# def progress_bar(i):\n",
    "#     pro_bar = ('=' * i) + (' ' * (pro_size - i))\n",
    "#     print('\\r[{0}] {1}%'.format(pro_bar, i / pro_size * 100.), end='')"
   ]
  },
  {
   "cell_type": "code",
   "execution_count": 6,
   "metadata": {},
   "outputs": [],
   "source": [
    "# ROOT = Path.cwd().parent\n",
    "# INPUT_ROOT = ROOT / \"input\"\n",
    "INPUT_ROOT = Path(\"/home/knikaido/work/Cornell-Birdcall-Identification/data\")\n",
    "RAW_DATA = INPUT_ROOT / \"birdsong-recognition\"\n",
    "TRAIN_AUDIO_DIR = RAW_DATA / \"train_audio\"\n",
    "TRAIN_RESAMPLED_AUDIO_DIRS = [\n",
    "  INPUT_ROOT / \"birdsong-resampled-train-audio-{:0>2}\".format(i)  for i in range(5)\n",
    "]\n",
    "TEST_AUDIO_DIR = RAW_DATA / \"test_audio\""
   ]
  },
  {
   "cell_type": "code",
   "execution_count": 7,
   "metadata": {},
   "outputs": [
    {
     "data": {
      "text/html": [
       "<div>\n",
       "<style scoped>\n",
       "    .dataframe tbody tr th:only-of-type {\n",
       "        vertical-align: middle;\n",
       "    }\n",
       "\n",
       "    .dataframe tbody tr th {\n",
       "        vertical-align: top;\n",
       "    }\n",
       "\n",
       "    .dataframe thead th {\n",
       "        text-align: right;\n",
       "    }\n",
       "</style>\n",
       "<table border=\"1\" class=\"dataframe\">\n",
       "  <thead>\n",
       "    <tr style=\"text-align: right;\">\n",
       "      <th></th>\n",
       "      <th>0</th>\n",
       "      <th>1</th>\n",
       "      <th>2</th>\n",
       "      <th>3</th>\n",
       "      <th>4</th>\n",
       "    </tr>\n",
       "  </thead>\n",
       "  <tbody>\n",
       "    <tr>\n",
       "      <th>site</th>\n",
       "      <td>site_1</td>\n",
       "      <td>site_1</td>\n",
       "      <td>site_1</td>\n",
       "      <td>site_1</td>\n",
       "      <td>site_1</td>\n",
       "    </tr>\n",
       "    <tr>\n",
       "      <th>row_id</th>\n",
       "      <td>site_1_41e6fe6504a34bf6846938ba78d13df1_5</td>\n",
       "      <td>site_1_41e6fe6504a34bf6846938ba78d13df1_10</td>\n",
       "      <td>site_1_41e6fe6504a34bf6846938ba78d13df1_15</td>\n",
       "      <td>site_1_41e6fe6504a34bf6846938ba78d13df1_20</td>\n",
       "      <td>site_1_41e6fe6504a34bf6846938ba78d13df1_25</td>\n",
       "    </tr>\n",
       "    <tr>\n",
       "      <th>seconds</th>\n",
       "      <td>5</td>\n",
       "      <td>10</td>\n",
       "      <td>15</td>\n",
       "      <td>20</td>\n",
       "      <td>25</td>\n",
       "    </tr>\n",
       "    <tr>\n",
       "      <th>audio_id</th>\n",
       "      <td>41e6fe6504a34bf6846938ba78d13df1</td>\n",
       "      <td>41e6fe6504a34bf6846938ba78d13df1</td>\n",
       "      <td>41e6fe6504a34bf6846938ba78d13df1</td>\n",
       "      <td>41e6fe6504a34bf6846938ba78d13df1</td>\n",
       "      <td>41e6fe6504a34bf6846938ba78d13df1</td>\n",
       "    </tr>\n",
       "  </tbody>\n",
       "</table>\n",
       "</div>"
      ],
      "text/plain": [
       "                                                  0  \\\n",
       "site                                         site_1   \n",
       "row_id    site_1_41e6fe6504a34bf6846938ba78d13df1_5   \n",
       "seconds                                           5   \n",
       "audio_id           41e6fe6504a34bf6846938ba78d13df1   \n",
       "\n",
       "                                                   1  \\\n",
       "site                                          site_1   \n",
       "row_id    site_1_41e6fe6504a34bf6846938ba78d13df1_10   \n",
       "seconds                                           10   \n",
       "audio_id            41e6fe6504a34bf6846938ba78d13df1   \n",
       "\n",
       "                                                   2  \\\n",
       "site                                          site_1   \n",
       "row_id    site_1_41e6fe6504a34bf6846938ba78d13df1_15   \n",
       "seconds                                           15   \n",
       "audio_id            41e6fe6504a34bf6846938ba78d13df1   \n",
       "\n",
       "                                                   3  \\\n",
       "site                                          site_1   \n",
       "row_id    site_1_41e6fe6504a34bf6846938ba78d13df1_20   \n",
       "seconds                                           20   \n",
       "audio_id            41e6fe6504a34bf6846938ba78d13df1   \n",
       "\n",
       "                                                   4  \n",
       "site                                          site_1  \n",
       "row_id    site_1_41e6fe6504a34bf6846938ba78d13df1_25  \n",
       "seconds                                           25  \n",
       "audio_id            41e6fe6504a34bf6846938ba78d13df1  "
      ]
     },
     "execution_count": 7,
     "metadata": {},
     "output_type": "execute_result"
    }
   ],
   "source": [
    "if not TEST_AUDIO_DIR.exists():\n",
    "    TEST_AUDIO_DIR = INPUT_ROOT / \"birdcall-check\" / \"test_audio\"\n",
    "    test = pd.read_csv(INPUT_ROOT / \"birdcall-check\" / \"test.csv\")\n",
    "else:\n",
    "    test = pd.read_csv(RAW_DATA / \"test.csv\")\n",
    "test.head().T"
   ]
  },
  {
   "cell_type": "code",
   "execution_count": 11,
   "metadata": {},
   "outputs": [],
   "source": [
    "device = torch.device(settings[\"globals\"][\"device\"])"
   ]
  },
  {
   "cell_type": "code",
   "execution_count": 12,
   "metadata": {},
   "outputs": [],
   "source": [
    "class ResNet(nn.Module):\n",
    "    def __init__(self, base_model_name: str, pretrained=True,\n",
    "                 num_classes=264):\n",
    "        super().__init__()\n",
    "        base_model = models.__getattribute__(base_model_name)(\n",
    "            pretrained=pretrained)\n",
    "        layers = list(base_model.children())[:-2]\n",
    "        layers.append(nn.AdaptiveMaxPool2d(1))\n",
    "        self.encoder = nn.Sequential(*layers)\n",
    "\n",
    "        in_features = base_model.fc.in_features\n",
    "\n",
    "        self.classifier = nn.Sequential(\n",
    "            nn.Linear(in_features, 1024), nn.ReLU(), nn.Dropout(p=0.2),\n",
    "            nn.Linear(1024, 1024), nn.ReLU(), nn.Dropout(p=0.2),\n",
    "            nn.Linear(1024, num_classes))\n",
    "\n",
    "    def forward(self, x):\n",
    "        batch_size = x.size(0)\n",
    "        x = self.encoder(x).view(batch_size, -1)\n",
    "        x = self.classifier(x)\n",
    "        return x\n",
    "#         multiclass_proba = F.softmax(x, dim=1)\n",
    "#         multilabel_proba = torch.sigmoid(x)\n",
    "#         return {\n",
    "#             \"logits\": x,\n",
    "#             \"multiclass_proba\": multiclass_proba,\n",
    "#             \"multilabel_proba\": multilabel_proba\n",
    "#         }"
   ]
  },
  {
   "cell_type": "code",
   "execution_count": 13,
   "metadata": {},
   "outputs": [],
   "source": [
    "def get_model(args: tp.Dict):\n",
    "    model = ResNet('resnet50')\n",
    "    \n",
    "    return model"
   ]
  },
  {
   "cell_type": "code",
   "execution_count": 14,
   "metadata": {},
   "outputs": [],
   "source": [
    "model = get_model(settings[\"model\"])\n",
    "model = model.to(device)\n"
   ]
  },
  {
   "cell_type": "code",
   "execution_count": 18,
   "metadata": {},
   "outputs": [
    {
     "name": "stdout",
     "output_type": "stream",
     "text": [
      "==========================================================================================\n",
      "Layer (type:depth-idx)                   Output Shape              Param #\n",
      "==========================================================================================\n",
      "├─Sequential: 1-1                        [-1, 2048, 1, 1]          --\n",
      "|    └─Conv2d: 2-1                       [-1, 64, 112, 274]        9,408\n",
      "|    └─BatchNorm2d: 2-2                  [-1, 64, 112, 274]        128\n",
      "|    └─ReLU: 2-3                         [-1, 64, 112, 274]        --\n",
      "|    └─MaxPool2d: 2-4                    [-1, 64, 56, 137]         --\n",
      "|    └─Sequential: 2-5                   [-1, 256, 56, 137]        --\n",
      "|    |    └─Bottleneck: 3-1              [-1, 256, 56, 137]        75,008\n",
      "|    |    └─Bottleneck: 3-2              [-1, 256, 56, 137]        70,400\n",
      "|    |    └─Bottleneck: 3-3              [-1, 256, 56, 137]        70,400\n",
      "|    └─Sequential: 2-6                   [-1, 512, 28, 69]         --\n",
      "|    |    └─Bottleneck: 3-4              [-1, 512, 28, 69]         379,392\n",
      "|    |    └─Bottleneck: 3-5              [-1, 512, 28, 69]         280,064\n",
      "|    |    └─Bottleneck: 3-6              [-1, 512, 28, 69]         280,064\n",
      "|    |    └─Bottleneck: 3-7              [-1, 512, 28, 69]         280,064\n",
      "|    └─Sequential: 2-7                   [-1, 1024, 14, 35]        --\n",
      "|    |    └─Bottleneck: 3-8              [-1, 1024, 14, 35]        1,512,448\n",
      "|    |    └─Bottleneck: 3-9              [-1, 1024, 14, 35]        1,117,184\n",
      "|    |    └─Bottleneck: 3-10             [-1, 1024, 14, 35]        1,117,184\n",
      "|    |    └─Bottleneck: 3-11             [-1, 1024, 14, 35]        1,117,184\n",
      "|    |    └─Bottleneck: 3-12             [-1, 1024, 14, 35]        1,117,184\n",
      "|    |    └─Bottleneck: 3-13             [-1, 1024, 14, 35]        1,117,184\n",
      "|    └─Sequential: 2-8                   [-1, 2048, 7, 18]         --\n",
      "|    |    └─Bottleneck: 3-14             [-1, 2048, 7, 18]         6,039,552\n",
      "|    |    └─Bottleneck: 3-15             [-1, 2048, 7, 18]         4,462,592\n",
      "|    |    └─Bottleneck: 3-16             [-1, 2048, 7, 18]         4,462,592\n",
      "|    └─AdaptiveMaxPool2d: 2-9            [-1, 2048, 1, 1]          --\n",
      "├─Sequential: 1-2                        [-1, 264]                 --\n",
      "|    └─Linear: 2-10                      [-1, 1024]                2,098,176\n",
      "|    └─ReLU: 2-11                        [-1, 1024]                --\n",
      "|    └─Dropout: 2-12                     [-1, 1024]                --\n",
      "|    └─Linear: 2-13                      [-1, 1024]                1,049,600\n",
      "|    └─ReLU: 2-14                        [-1, 1024]                --\n",
      "|    └─Dropout: 2-15                     [-1, 1024]                --\n",
      "|    └─Linear: 2-16                      [-1, 264]                 270,600\n",
      "==========================================================================================\n",
      "Total params: 26,926,408\n",
      "Trainable params: 26,926,408\n",
      "Non-trainable params: 0\n",
      "Total mult-adds (G): 9.36\n",
      "==========================================================================================\n",
      "Input size (MB): 1.40\n",
      "Forward/backward pass size (MB): 361.72\n",
      "Params size (MB): 102.72\n",
      "Estimated Total Size (MB): 465.84\n",
      "==========================================================================================\n"
     ]
    },
    {
     "data": {
      "text/plain": [
       "==========================================================================================\n",
       "Layer (type:depth-idx)                   Output Shape              Param #\n",
       "==========================================================================================\n",
       "├─Sequential: 1-1                        [-1, 2048, 1, 1]          --\n",
       "|    └─Conv2d: 2-1                       [-1, 64, 112, 274]        9,408\n",
       "|    └─BatchNorm2d: 2-2                  [-1, 64, 112, 274]        128\n",
       "|    └─ReLU: 2-3                         [-1, 64, 112, 274]        --\n",
       "|    └─MaxPool2d: 2-4                    [-1, 64, 56, 137]         --\n",
       "|    └─Sequential: 2-5                   [-1, 256, 56, 137]        --\n",
       "|    |    └─Bottleneck: 3-1              [-1, 256, 56, 137]        75,008\n",
       "|    |    └─Bottleneck: 3-2              [-1, 256, 56, 137]        70,400\n",
       "|    |    └─Bottleneck: 3-3              [-1, 256, 56, 137]        70,400\n",
       "|    └─Sequential: 2-6                   [-1, 512, 28, 69]         --\n",
       "|    |    └─Bottleneck: 3-4              [-1, 512, 28, 69]         379,392\n",
       "|    |    └─Bottleneck: 3-5              [-1, 512, 28, 69]         280,064\n",
       "|    |    └─Bottleneck: 3-6              [-1, 512, 28, 69]         280,064\n",
       "|    |    └─Bottleneck: 3-7              [-1, 512, 28, 69]         280,064\n",
       "|    └─Sequential: 2-7                   [-1, 1024, 14, 35]        --\n",
       "|    |    └─Bottleneck: 3-8              [-1, 1024, 14, 35]        1,512,448\n",
       "|    |    └─Bottleneck: 3-9              [-1, 1024, 14, 35]        1,117,184\n",
       "|    |    └─Bottleneck: 3-10             [-1, 1024, 14, 35]        1,117,184\n",
       "|    |    └─Bottleneck: 3-11             [-1, 1024, 14, 35]        1,117,184\n",
       "|    |    └─Bottleneck: 3-12             [-1, 1024, 14, 35]        1,117,184\n",
       "|    |    └─Bottleneck: 3-13             [-1, 1024, 14, 35]        1,117,184\n",
       "|    └─Sequential: 2-8                   [-1, 2048, 7, 18]         --\n",
       "|    |    └─Bottleneck: 3-14             [-1, 2048, 7, 18]         6,039,552\n",
       "|    |    └─Bottleneck: 3-15             [-1, 2048, 7, 18]         4,462,592\n",
       "|    |    └─Bottleneck: 3-16             [-1, 2048, 7, 18]         4,462,592\n",
       "|    └─AdaptiveMaxPool2d: 2-9            [-1, 2048, 1, 1]          --\n",
       "├─Sequential: 1-2                        [-1, 264]                 --\n",
       "|    └─Linear: 2-10                      [-1, 1024]                2,098,176\n",
       "|    └─ReLU: 2-11                        [-1, 1024]                --\n",
       "|    └─Dropout: 2-12                     [-1, 1024]                --\n",
       "|    └─Linear: 2-13                      [-1, 1024]                1,049,600\n",
       "|    └─ReLU: 2-14                        [-1, 1024]                --\n",
       "|    └─Dropout: 2-15                     [-1, 1024]                --\n",
       "|    └─Linear: 2-16                      [-1, 264]                 270,600\n",
       "==========================================================================================\n",
       "Total params: 26,926,408\n",
       "Trainable params: 26,926,408\n",
       "Non-trainable params: 0\n",
       "Total mult-adds (G): 9.36\n",
       "==========================================================================================\n",
       "Input size (MB): 1.40\n",
       "Forward/backward pass size (MB): 361.72\n",
       "Params size (MB): 102.72\n",
       "Estimated Total Size (MB): 465.84\n",
       "=========================================================================================="
      ]
     },
     "execution_count": 18,
     "metadata": {},
     "output_type": "execute_result"
    }
   ],
   "source": [
    "summary(model, (3, 224, 547))"
   ]
  },
  {
   "cell_type": "code",
   "execution_count": 21,
   "metadata": {},
   "outputs": [
    {
     "name": "stdout",
     "output_type": "stream",
     "text": [
      "Defaulting to user installation because normal site-packages is not writeable\n",
      "\u001b[31mERROR: Invalid requirement: '#Google'\u001b[0m\n",
      "\u001b[33mWARNING: You are using pip version 20.1.1; however, version 20.2.2 is available.\n",
      "You should consider upgrading via the '/usr/bin/python3 -m pip install --upgrade pip' command.\u001b[0m\n"
     ]
    }
   ],
   "source": [
    "!pip install efficientnet-pytorch 　#Google colabだとこれで動きます\n",
    "# from efficientnet_pytorch import EfficientNet"
   ]
  },
  {
   "cell_type": "code",
   "execution_count": 22,
   "metadata": {},
   "outputs": [
    {
     "name": "stderr",
     "output_type": "stream",
     "text": [
      "Downloading: \"https://github.com/zhanghang1989/ResNeSt/archive/master.zip\" to /home/user/.cache/torch/hub/master.zip\n",
      "Using cache found in /home/user/.cache/torch/hub/zhanghang1989_ResNeSt_master\n",
      "Downloading: \"https://s3.us-west-1.wasabisys.com/resnest/torch/resnest50-528c19ca.pth\" to /home/user/.cache/torch/checkpoints/resnest50-528c19ca.pth\n",
      "100%|██████████| 105M/105M [00:17<00:00, 6.26MB/s]\n"
     ]
    }
   ],
   "source": [
    "torch.hub.list('zhanghang1989/ResNeSt', force_reload=True)\n",
    "# load pretrained models, using ResNeSt-50 as an example\n",
    "model = torch.hub.load('zhanghang1989/ResNeSt', 'resnest50', pretrained=True)"
   ]
  },
  {
   "cell_type": "code",
   "execution_count": 50,
   "metadata": {},
   "outputs": [],
   "source": [
    "class ResNeSt(nn.Module):\n",
    "    def __init__(self, base_model_name: str, pretrained=True,\n",
    "                 num_classes=264):\n",
    "        super().__init__()\n",
    "        torch.hub.list('zhanghang1989/ResNeSt', force_reload=True)\n",
    "        # load pretrained models, using ResNeSt-50 as an example\n",
    "        base_model = torch.hub.load('zhanghang1989/ResNeSt', 'resnest50', pretrained=True)\n",
    "        layers = list(base_model.children())[:-2]\n",
    "        layers.append(nn.AdaptiveMaxPool2d(1))\n",
    "        self.encoder = nn.Sequential(*layers)\n",
    "\n",
    "        in_features = base_model.fc.in_features\n",
    "\n",
    "        self.classifier = nn.Sequential(\n",
    "            nn.Linear(in_features, 1024), nn.ReLU(), nn.Dropout(p=0.2),\n",
    "            nn.Linear(1024, 1024), nn.ReLU(), nn.Dropout(p=0.2),\n",
    "            nn.Linear(1024, num_classes))\n",
    "\n",
    "    def forward(self, x):\n",
    "        batch_size = x.size(0)\n",
    "        x = self.encoder(x).view(batch_size, -1)\n",
    "        x = self.classifier(x)\n",
    "        return x\n",
    "#         multiclass_proba = F.softmax(x, dim=1)\n",
    "#         multilabel_proba = torch.sigmoid(x)\n",
    "#         return {\n",
    "#             \"logits\": x,\n",
    "#             \"multiclass_proba\": multiclass_proba,\n",
    "#             \"multilabel_proba\": multilabel_proba\n",
    "#         }"
   ]
  },
  {
   "cell_type": "code",
   "execution_count": 51,
   "metadata": {},
   "outputs": [],
   "source": [
    "def get_model_new(args: tp.Dict):\n",
    "    model = ResNeSt('resnet50')\n",
    "    \n",
    "    return model"
   ]
  },
  {
   "cell_type": "code",
   "execution_count": 52,
   "metadata": {},
   "outputs": [
    {
     "name": "stderr",
     "output_type": "stream",
     "text": [
      "Downloading: \"https://github.com/zhanghang1989/ResNeSt/archive/master.zip\" to /home/user/.cache/torch/hub/master.zip\n",
      "Using cache found in /home/user/.cache/torch/hub/zhanghang1989_ResNeSt_master\n"
     ]
    }
   ],
   "source": [
    "model_new = get_model_new(settings[\"model\"])\n",
    "model_new = model_new.to(device)"
   ]
  },
  {
   "cell_type": "code",
   "execution_count": 53,
   "metadata": {},
   "outputs": [
    {
     "name": "stdout",
     "output_type": "stream",
     "text": [
      "==========================================================================================\n",
      "Layer (type:depth-idx)                   Output Shape              Param #\n",
      "==========================================================================================\n",
      "├─Sequential: 1-1                        [-1, 2048, 1, 1]          --\n",
      "|    └─Sequential: 2-1                   [-1, 64, 112, 274]        --\n",
      "|    |    └─Conv2d: 3-1                  [-1, 32, 112, 274]        864\n",
      "|    |    └─BatchNorm2d: 3-2             [-1, 32, 112, 274]        64\n",
      "|    |    └─ReLU: 3-3                    [-1, 32, 112, 274]        --\n",
      "|    |    └─Conv2d: 3-4                  [-1, 32, 112, 274]        9,216\n",
      "|    |    └─BatchNorm2d: 3-5             [-1, 32, 112, 274]        64\n",
      "|    |    └─ReLU: 3-6                    [-1, 32, 112, 274]        --\n",
      "|    |    └─Conv2d: 3-7                  [-1, 64, 112, 274]        18,432\n",
      "|    └─BatchNorm2d: 2-2                  [-1, 64, 112, 274]        128\n",
      "|    └─ReLU: 2-3                         [-1, 64, 112, 274]        --\n",
      "|    └─MaxPool2d: 2-4                    [-1, 64, 56, 137]         --\n",
      "|    └─Sequential: 2-5                   [-1, 256, 56, 137]        --\n",
      "|    |    └─Bottleneck: 3-8              [-1, 256, 56, 137]        81,504\n",
      "|    |    └─Bottleneck: 3-9              [-1, 256, 56, 137]        76,896\n",
      "|    |    └─Bottleneck: 3-10             [-1, 256, 56, 137]        76,896\n",
      "|    └─Sequential: 2-6                   [-1, 512, 28, 69]         --\n",
      "|    |    └─Bottleneck: 3-11             [-1, 512, 28, 69]         404,672\n",
      "|    |    └─Bottleneck: 3-12             [-1, 512, 28, 69]         305,344\n",
      "|    |    └─Bottleneck: 3-13             [-1, 512, 28, 69]         305,344\n",
      "|    |    └─Bottleneck: 3-14             [-1, 512, 28, 69]         305,344\n",
      "|    └─Sequential: 2-7                   [-1, 1024, 14, 35]        --\n",
      "|    |    └─Bottleneck: 3-15             [-1, 1024, 14, 35]        1,612,160\n",
      "|    |    └─Bottleneck: 3-16             [-1, 1024, 14, 35]        1,216,896\n",
      "|    |    └─Bottleneck: 3-17             [-1, 1024, 14, 35]        1,216,896\n",
      "|    |    └─Bottleneck: 3-18             [-1, 1024, 14, 35]        1,216,896\n",
      "|    |    └─Bottleneck: 3-19             [-1, 1024, 14, 35]        1,216,896\n",
      "|    |    └─Bottleneck: 3-20             [-1, 1024, 14, 35]        1,216,896\n",
      "|    └─Sequential: 2-8                   [-1, 2048, 7, 18]         --\n",
      "|    |    └─Bottleneck: 3-21             [-1, 2048, 7, 18]         6,435,584\n",
      "|    |    └─Bottleneck: 3-22             [-1, 2048, 7, 18]         4,858,624\n",
      "|    |    └─Bottleneck: 3-23             [-1, 2048, 7, 18]         4,858,624\n",
      "|    └─AdaptiveMaxPool2d: 2-9            [-1, 2048, 1, 1]          --\n",
      "├─Sequential: 1-2                        [-1, 264]                 --\n",
      "|    └─Linear: 2-10                      [-1, 1024]                2,098,176\n",
      "|    └─ReLU: 2-11                        [-1, 1024]                --\n",
      "|    └─Dropout: 2-12                     [-1, 1024]                --\n",
      "|    └─Linear: 2-13                      [-1, 1024]                1,049,600\n",
      "|    └─ReLU: 2-14                        [-1, 1024]                --\n",
      "|    └─Dropout: 2-15                     [-1, 1024]                --\n",
      "|    └─Linear: 2-16                      [-1, 264]                 270,600\n",
      "==========================================================================================\n",
      "Total params: 28,852,616\n",
      "Trainable params: 28,852,616\n",
      "Non-trainable params: 0\n",
      "Total mult-adds (G): 5.36\n",
      "==========================================================================================\n",
      "Input size (MB): 1.40\n",
      "Forward/backward pass size (MB): 339.68\n",
      "Params size (MB): 110.06\n",
      "Estimated Total Size (MB): 451.15\n",
      "==========================================================================================\n"
     ]
    },
    {
     "data": {
      "text/plain": [
       "==========================================================================================\n",
       "Layer (type:depth-idx)                   Output Shape              Param #\n",
       "==========================================================================================\n",
       "├─Sequential: 1-1                        [-1, 2048, 1, 1]          --\n",
       "|    └─Sequential: 2-1                   [-1, 64, 112, 274]        --\n",
       "|    |    └─Conv2d: 3-1                  [-1, 32, 112, 274]        864\n",
       "|    |    └─BatchNorm2d: 3-2             [-1, 32, 112, 274]        64\n",
       "|    |    └─ReLU: 3-3                    [-1, 32, 112, 274]        --\n",
       "|    |    └─Conv2d: 3-4                  [-1, 32, 112, 274]        9,216\n",
       "|    |    └─BatchNorm2d: 3-5             [-1, 32, 112, 274]        64\n",
       "|    |    └─ReLU: 3-6                    [-1, 32, 112, 274]        --\n",
       "|    |    └─Conv2d: 3-7                  [-1, 64, 112, 274]        18,432\n",
       "|    └─BatchNorm2d: 2-2                  [-1, 64, 112, 274]        128\n",
       "|    └─ReLU: 2-3                         [-1, 64, 112, 274]        --\n",
       "|    └─MaxPool2d: 2-4                    [-1, 64, 56, 137]         --\n",
       "|    └─Sequential: 2-5                   [-1, 256, 56, 137]        --\n",
       "|    |    └─Bottleneck: 3-8              [-1, 256, 56, 137]        81,504\n",
       "|    |    └─Bottleneck: 3-9              [-1, 256, 56, 137]        76,896\n",
       "|    |    └─Bottleneck: 3-10             [-1, 256, 56, 137]        76,896\n",
       "|    └─Sequential: 2-6                   [-1, 512, 28, 69]         --\n",
       "|    |    └─Bottleneck: 3-11             [-1, 512, 28, 69]         404,672\n",
       "|    |    └─Bottleneck: 3-12             [-1, 512, 28, 69]         305,344\n",
       "|    |    └─Bottleneck: 3-13             [-1, 512, 28, 69]         305,344\n",
       "|    |    └─Bottleneck: 3-14             [-1, 512, 28, 69]         305,344\n",
       "|    └─Sequential: 2-7                   [-1, 1024, 14, 35]        --\n",
       "|    |    └─Bottleneck: 3-15             [-1, 1024, 14, 35]        1,612,160\n",
       "|    |    └─Bottleneck: 3-16             [-1, 1024, 14, 35]        1,216,896\n",
       "|    |    └─Bottleneck: 3-17             [-1, 1024, 14, 35]        1,216,896\n",
       "|    |    └─Bottleneck: 3-18             [-1, 1024, 14, 35]        1,216,896\n",
       "|    |    └─Bottleneck: 3-19             [-1, 1024, 14, 35]        1,216,896\n",
       "|    |    └─Bottleneck: 3-20             [-1, 1024, 14, 35]        1,216,896\n",
       "|    └─Sequential: 2-8                   [-1, 2048, 7, 18]         --\n",
       "|    |    └─Bottleneck: 3-21             [-1, 2048, 7, 18]         6,435,584\n",
       "|    |    └─Bottleneck: 3-22             [-1, 2048, 7, 18]         4,858,624\n",
       "|    |    └─Bottleneck: 3-23             [-1, 2048, 7, 18]         4,858,624\n",
       "|    └─AdaptiveMaxPool2d: 2-9            [-1, 2048, 1, 1]          --\n",
       "├─Sequential: 1-2                        [-1, 264]                 --\n",
       "|    └─Linear: 2-10                      [-1, 1024]                2,098,176\n",
       "|    └─ReLU: 2-11                        [-1, 1024]                --\n",
       "|    └─Dropout: 2-12                     [-1, 1024]                --\n",
       "|    └─Linear: 2-13                      [-1, 1024]                1,049,600\n",
       "|    └─ReLU: 2-14                        [-1, 1024]                --\n",
       "|    └─Dropout: 2-15                     [-1, 1024]                --\n",
       "|    └─Linear: 2-16                      [-1, 264]                 270,600\n",
       "==========================================================================================\n",
       "Total params: 28,852,616\n",
       "Trainable params: 28,852,616\n",
       "Non-trainable params: 0\n",
       "Total mult-adds (G): 5.36\n",
       "==========================================================================================\n",
       "Input size (MB): 1.40\n",
       "Forward/backward pass size (MB): 339.68\n",
       "Params size (MB): 110.06\n",
       "Estimated Total Size (MB): 451.15\n",
       "=========================================================================================="
      ]
     },
     "execution_count": 53,
     "metadata": {},
     "output_type": "execute_result"
    }
   ],
   "source": [
    "summary(model_new, (3, 224, 547))"
   ]
  },
  {
   "cell_type": "code",
   "execution_count": 1,
   "metadata": {},
   "outputs": [],
   "source": [
    "import sys\n",
    "\n",
    "sys.path.append(\"./GPU-Efficient-Networks\")"
   ]
  },
  {
   "cell_type": "code",
   "execution_count": 2,
   "metadata": {},
   "outputs": [],
   "source": [
    "import GENet\n"
   ]
  },
  {
   "cell_type": "code",
   "execution_count": 12,
   "metadata": {},
   "outputs": [
    {
     "ename": "AttributeError",
     "evalue": "type object 'GENet' has no attribute 'genet_small'",
     "output_type": "error",
     "traceback": [
      "\u001b[0;31m---------------------------------------------------------------------------\u001b[0m",
      "\u001b[0;31mAttributeError\u001b[0m                            Traceback (most recent call last)",
      "\u001b[0;32m<ipython-input-12-5ec05131036f>\u001b[0m in \u001b[0;36m<module>\u001b[0;34m\u001b[0m\n\u001b[1;32m     10\u001b[0m \u001b[0;32mif\u001b[0m \u001b[0march\u001b[0m \u001b[0;34m==\u001b[0m \u001b[0;34m'GENet_small'\u001b[0m\u001b[0;34m:\u001b[0m\u001b[0;34m\u001b[0m\u001b[0;34m\u001b[0m\u001b[0m\n\u001b[1;32m     11\u001b[0m     \u001b[0minput_image_size\u001b[0m \u001b[0;34m=\u001b[0m \u001b[0;36m192\u001b[0m\u001b[0;34m\u001b[0m\u001b[0;34m\u001b[0m\u001b[0m\n\u001b[0;32m---> 12\u001b[0;31m     \u001b[0mmodel_ge\u001b[0m \u001b[0;34m=\u001b[0m \u001b[0mGENet\u001b[0m\u001b[0;34m.\u001b[0m\u001b[0mgenet_small\u001b[0m\u001b[0;34m(\u001b[0m\u001b[0mpretrained\u001b[0m\u001b[0;34m=\u001b[0m\u001b[0;32mTrue\u001b[0m\u001b[0;34m,\u001b[0m \u001b[0mroot\u001b[0m\u001b[0;34m=\u001b[0m\u001b[0;34m'./GPU-Efficient-Networks/GENet_params/'\u001b[0m\u001b[0;34m)\u001b[0m\u001b[0;34m\u001b[0m\u001b[0;34m\u001b[0m\u001b[0m\n\u001b[0m",
      "\u001b[0;31mAttributeError\u001b[0m: type object 'GENet' has no attribute 'genet_small'"
     ]
    }
   ],
   "source": [
    "import torch\n",
    "from torch import nn\n",
    "arch = 'GENet_small'\n",
    "if arch == 'GENet_large':\n",
    "    input_image_size = 256\n",
    "    model_ge = GENet.genet_large(pretrained=True, root='./GPU-Efficient-Networks/GENet_params/')\n",
    "if arch == 'GENet_normal':\n",
    "    input_image_size = 192\n",
    "    model_ge = GENet.genet_normal(pretrained=True, root='./GPU-Efficient-Networks/GENet_params/')\n",
    "if arch == 'GENet_small':\n",
    "    input_image_size = 192\n",
    "    model_ge = GENet.genet_small(pretrained=True, root='./GPU-Efficient-Networks/GENet_params/')"
   ]
  },
  {
   "cell_type": "code",
   "execution_count": 7,
   "metadata": {},
   "outputs": [],
   "source": [
    "class GENet(nn.Module):\n",
    "    def __init__(self, base_model, pretrained=True,\n",
    "                 num_classes=264):\n",
    "        super().__init__()\n",
    "#         torch.hub.list('zhanghang1989/ResNeSt', force_reload=True)\n",
    "#         # load pretrained models, using ResNeSt-50 as an example\n",
    "#         base_model = torch.hub.load('zhanghang1989/ResNeSt', 'resnest50', pretrained=True)\n",
    "        layers = list(base_model.children())[:-2]\n",
    "        layers.append(nn.AdaptiveMaxPool2d(1))\n",
    "        self.encoder = nn.Sequential(*layers)\n",
    "\n",
    "        in_features = base_model.fc.in_features\n",
    "\n",
    "        self.classifier = nn.Sequential(\n",
    "            nn.Linear(in_features, 1024), nn.ReLU(), nn.Dropout(p=0.2),\n",
    "            nn.Linear(1024, 1024), nn.ReLU(), nn.Dropout(p=0.2),\n",
    "            nn.Linear(1024, num_classes))\n",
    "\n",
    "    def forward(self, x):\n",
    "        batch_size = x.size(0)\n",
    "        x = self.encoder(x).view(batch_size, -1)\n",
    "        x = self.classifier(x)\n",
    "        return x\n",
    "#         multiclass_proba = F.softmax(x, dim=1)\n",
    "#         multilabel_proba = torch.sigmoid(x)\n",
    "#         return {\n",
    "#             \"logits\": x,\n",
    "#             \"multiclass_proba\": multiclass_proba,\n",
    "#             \"multilabel_proba\": multilabel_proba\n",
    "#         }"
   ]
  },
  {
   "cell_type": "code",
   "execution_count": 8,
   "metadata": {},
   "outputs": [],
   "source": [
    "def get_model_ge(model_ge):\n",
    "    model = GENet(model_ge)\n",
    "    \n",
    "    return model"
   ]
  },
  {
   "cell_type": "code",
   "execution_count": 9,
   "metadata": {},
   "outputs": [
    {
     "ename": "NameError",
     "evalue": "name 'model_ge' is not defined",
     "output_type": "error",
     "traceback": [
      "\u001b[0;31m---------------------------------------------------------------------------\u001b[0m",
      "\u001b[0;31mNameError\u001b[0m                                 Traceback (most recent call last)",
      "\u001b[0;32m<ipython-input-9-8fb9ff76788a>\u001b[0m in \u001b[0;36m<module>\u001b[0;34m\u001b[0m\n\u001b[0;32m----> 1\u001b[0;31m \u001b[0mmodel_new_ge\u001b[0m \u001b[0;34m=\u001b[0m \u001b[0mget_model_ge\u001b[0m\u001b[0;34m(\u001b[0m\u001b[0mmodel_ge\u001b[0m\u001b[0;34m)\u001b[0m\u001b[0;34m\u001b[0m\u001b[0;34m\u001b[0m\u001b[0m\n\u001b[0m\u001b[1;32m      2\u001b[0m \u001b[0mmodel_new_ge\u001b[0m \u001b[0;34m=\u001b[0m \u001b[0mmodel_new_ge\u001b[0m\u001b[0;34m.\u001b[0m\u001b[0mto\u001b[0m\u001b[0;34m(\u001b[0m\u001b[0mdevice\u001b[0m\u001b[0;34m)\u001b[0m\u001b[0;34m\u001b[0m\u001b[0;34m\u001b[0m\u001b[0m\n",
      "\u001b[0;31mNameError\u001b[0m: name 'model_ge' is not defined"
     ]
    }
   ],
   "source": [
    "model_new_ge = get_model_ge(model_ge)\n",
    "model_new_ge = model_new_ge.to(device)"
   ]
  },
  {
   "cell_type": "code",
   "execution_count": null,
   "metadata": {},
   "outputs": [],
   "source": []
  }
 ],
 "metadata": {
  "kernelspec": {
   "display_name": "Python 3",
   "language": "python",
   "name": "python3"
  },
  "language_info": {
   "codemirror_mode": {
    "name": "ipython",
    "version": 3
   },
   "file_extension": ".py",
   "mimetype": "text/x-python",
   "name": "python",
   "nbconvert_exporter": "python",
   "pygments_lexer": "ipython3",
   "version": "3.6.10"
  }
 },
 "nbformat": 4,
 "nbformat_minor": 4
}
