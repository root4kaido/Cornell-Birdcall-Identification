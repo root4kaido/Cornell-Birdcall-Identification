{
 "cells": [
  {
   "cell_type": "code",
   "execution_count": 2,
   "metadata": {},
   "outputs": [],
   "source": [
    "import pickle\n",
    "import pandas as pd"
   ]
  },
  {
   "cell_type": "code",
   "execution_count": 3,
   "metadata": {},
   "outputs": [],
   "source": [
    "with open('./nb034_event_intensity_500to16000hz.pickle', mode='rb') as f:\n",
    "    df_event = pickle.load(f)"
   ]
  },
  {
   "cell_type": "code",
   "execution_count": 4,
   "metadata": {},
   "outputs": [
    {
     "data": {
      "text/html": [
       "<div>\n",
       "<style scoped>\n",
       "    .dataframe tbody tr th:only-of-type {\n",
       "        vertical-align: middle;\n",
       "    }\n",
       "\n",
       "    .dataframe tbody tr th {\n",
       "        vertical-align: top;\n",
       "    }\n",
       "\n",
       "    .dataframe thead th {\n",
       "        text-align: right;\n",
       "    }\n",
       "</style>\n",
       "<table border=\"1\" class=\"dataframe\">\n",
       "  <thead>\n",
       "    <tr style=\"text-align: right;\">\n",
       "      <th></th>\n",
       "      <th>event_sec_list</th>\n",
       "      <th>n_event</th>\n",
       "      <th>filename</th>\n",
       "    </tr>\n",
       "  </thead>\n",
       "  <tbody>\n",
       "    <tr>\n",
       "      <th>0</th>\n",
       "      <td>[1.473, 1.505, 2.914, 2.945, 2.979, 3.01, 3.04...</td>\n",
       "      <td>281</td>\n",
       "      <td>XC134874.wav</td>\n",
       "    </tr>\n",
       "    <tr>\n",
       "      <th>1</th>\n",
       "      <td>[0.4802, 0.512, 0.5444, 0.9604, 0.9927, 1.024,...</td>\n",
       "      <td>325</td>\n",
       "      <td>XC135454.wav</td>\n",
       "    </tr>\n",
       "    <tr>\n",
       "      <th>2</th>\n",
       "      <td>[0.416, 0.448, 0.48, 0.544, 0.576, 0.608, 0.64...</td>\n",
       "      <td>506</td>\n",
       "      <td>XC135455.wav</td>\n",
       "    </tr>\n",
       "    <tr>\n",
       "      <th>3</th>\n",
       "      <td>[0.4482, 0.4802, 0.512, 0.5444, 1.089, 1.121, ...</td>\n",
       "      <td>427</td>\n",
       "      <td>XC135456.wav</td>\n",
       "    </tr>\n",
       "    <tr>\n",
       "      <th>4</th>\n",
       "      <td>[0.1921, 0.2241, 1.793, 4.29, 4.324, 4.355, 9....</td>\n",
       "      <td>99</td>\n",
       "      <td>XC135457.wav</td>\n",
       "    </tr>\n",
       "    <tr>\n",
       "      <th>...</th>\n",
       "      <td>...</td>\n",
       "      <td>...</td>\n",
       "      <td>...</td>\n",
       "    </tr>\n",
       "    <tr>\n",
       "      <th>21370</th>\n",
       "      <td>[0.7046, 1.089, 1.121, 1.152, 1.185, 1.217, 1....</td>\n",
       "      <td>244</td>\n",
       "      <td>XC477608.wav</td>\n",
       "    </tr>\n",
       "    <tr>\n",
       "      <th>21371</th>\n",
       "      <td>[0.544, 0.576, 0.608, 0.64, 0.672, 0.704, 0.73...</td>\n",
       "      <td>437</td>\n",
       "      <td>XC500348.wav</td>\n",
       "    </tr>\n",
       "    <tr>\n",
       "      <th>21372</th>\n",
       "      <td>[1.76, 1.792, 1.824, 1.856, 1.888, 1.92, 1.952...</td>\n",
       "      <td>445</td>\n",
       "      <td>XC501230.wav</td>\n",
       "    </tr>\n",
       "    <tr>\n",
       "      <th>21373</th>\n",
       "      <td>[1.217, 1.3125, 1.345, 1.44, 1.473, 1.505, 3.1...</td>\n",
       "      <td>91</td>\n",
       "      <td>XC54828.wav</td>\n",
       "    </tr>\n",
       "    <tr>\n",
       "      <th>21374</th>\n",
       "      <td>[0.064, 0.096, 0.128, 0.16, 0.192, 0.224, 0.25...</td>\n",
       "      <td>1460</td>\n",
       "      <td>XC55761.wav</td>\n",
       "    </tr>\n",
       "  </tbody>\n",
       "</table>\n",
       "<p>21375 rows × 3 columns</p>\n",
       "</div>"
      ],
      "text/plain": [
       "                                          event_sec_list n_event      filename\n",
       "0      [1.473, 1.505, 2.914, 2.945, 2.979, 3.01, 3.04...     281  XC134874.wav\n",
       "1      [0.4802, 0.512, 0.5444, 0.9604, 0.9927, 1.024,...     325  XC135454.wav\n",
       "2      [0.416, 0.448, 0.48, 0.544, 0.576, 0.608, 0.64...     506  XC135455.wav\n",
       "3      [0.4482, 0.4802, 0.512, 0.5444, 1.089, 1.121, ...     427  XC135456.wav\n",
       "4      [0.1921, 0.2241, 1.793, 4.29, 4.324, 4.355, 9....      99  XC135457.wav\n",
       "...                                                  ...     ...           ...\n",
       "21370  [0.7046, 1.089, 1.121, 1.152, 1.185, 1.217, 1....     244  XC477608.wav\n",
       "21371  [0.544, 0.576, 0.608, 0.64, 0.672, 0.704, 0.73...     437  XC500348.wav\n",
       "21372  [1.76, 1.792, 1.824, 1.856, 1.888, 1.92, 1.952...     445  XC501230.wav\n",
       "21373  [1.217, 1.3125, 1.345, 1.44, 1.473, 1.505, 3.1...      91   XC54828.wav\n",
       "21374  [0.064, 0.096, 0.128, 0.16, 0.192, 0.224, 0.25...    1460   XC55761.wav\n",
       "\n",
       "[21375 rows x 3 columns]"
      ]
     },
     "execution_count": 4,
     "metadata": {},
     "output_type": "execute_result"
    }
   ],
   "source": [
    "df_event"
   ]
  },
  {
   "cell_type": "code",
   "execution_count": null,
   "metadata": {},
   "outputs": [],
   "source": []
  }
 ],
 "metadata": {
  "kernelspec": {
   "display_name": "Python 3",
   "language": "python",
   "name": "python3"
  },
  "language_info": {
   "codemirror_mode": {
    "name": "ipython",
    "version": 3
   },
   "file_extension": ".py",
   "mimetype": "text/x-python",
   "name": "python",
   "nbconvert_exporter": "python",
   "pygments_lexer": "ipython3",
   "version": "3.6.10"
  }
 },
 "nbformat": 4,
 "nbformat_minor": 4
}
