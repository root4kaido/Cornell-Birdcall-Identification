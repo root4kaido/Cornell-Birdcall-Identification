{
 "cells": [
  {
   "cell_type": "code",
   "execution_count": 1,
   "metadata": {},
   "outputs": [],
   "source": [
    "from pathlib import Path\n",
    "import numpy as np\n",
    "import pandas as pd\n",
    "import typing as tp\n",
    "import yaml\n",
    "import random\n",
    "import os\n",
    "import sys\n",
    "import soundfile as sf\n",
    "import librosa\n",
    "import cv2\n",
    "import matplotlib.pyplot as plt\n",
    "\n",
    "import torch\n",
    "import torch.nn as nn\n",
    "import torch.nn.functional as F\n",
    "import torch.utils.data as data\n",
    "import resnest.torch as resnest_torch\n",
    "\n",
    "from torchvision import models\n",
    "\n",
    "from sklearn.model_selection import StratifiedKFold\n",
    "from sklearn.metrics import f1_score\n",
    "from radam import RAdam\n",
    "from scipy.ndimage import maximum_filter1d\n",
    "from tqdm import tqdm\n",
    "import IPython\n",
    "\n",
    "from scipy.io.wavfile import write\n",
    "pd.options.display.max_rows = 500\n",
    "pd.options.display.max_columns = 500"
   ]
  },
  {
   "cell_type": "code",
   "execution_count": 2,
   "metadata": {},
   "outputs": [],
   "source": [
    "def set_seed(seed: int = 42):\n",
    "    random.seed(seed)\n",
    "    np.random.seed(seed)\n",
    "    os.environ[\"PYTHONHASHSEED\"] = str(seed)\n",
    "    torch.manual_seed(seed)\n",
    "    torch.cuda.manual_seed(seed)  # type: ignore\n",
    "#     torch.backends.cudnn.deterministic = True  # type: ignore\n",
    "#     torch.backends.cudnn.benchmark = True  # type: ignore\n",
    "    "
   ]
  },
  {
   "cell_type": "code",
   "execution_count": 3,
   "metadata": {},
   "outputs": [],
   "source": [
    "# ROOT = Path.cwd().parent\n",
    "# INPUT_ROOT = ROOT / \"input\"\n",
    "INPUT_ROOT = Path(\"/home/knikaido/work/Cornell-Birdcall-Identification/data\")\n",
    "RAW_DATA = INPUT_ROOT / \"birdsong-recognition\"\n",
    "TRAIN_AUDIO_DIR = RAW_DATA / \"train_audio\"\n",
    "TRAIN_RESAMPLED_AUDIO_DIRS = [\n",
    "  INPUT_ROOT / \"birdsong-resampled-train-audio-{:0>2}\".format(i)  for i in range(5)\n",
    "]\n",
    "TEST_AUDIO_DIR = RAW_DATA / \"test_audio\"\n",
    "# TRAIN_RESAMPLED_AUDIO_DIRS = [\n",
    "#   INPUT_ROOT / \"birdsong-resampled-train-audio-hpss-npz\"\n",
    "# ]\n"
   ]
  },
  {
   "cell_type": "code",
   "execution_count": 4,
   "metadata": {},
   "outputs": [
    {
     "name": "stdout",
     "output_type": "stream",
     "text": [
      "(21375, 3)\n"
     ]
    }
   ],
   "source": [
    "tmp_list = []\n",
    "for audio_d in TRAIN_RESAMPLED_AUDIO_DIRS:\n",
    "    if not audio_d.exists():\n",
    "        continue\n",
    "    for ebird_d in audio_d.iterdir():\n",
    "        if ebird_d.is_file():\n",
    "            continue\n",
    "        for wav_f in ebird_d.iterdir():\n",
    "            tmp_list.append([ebird_d.name, wav_f.name, wav_f.as_posix()])\n",
    "            \n",
    "train_wav_path_exist = pd.DataFrame(\n",
    "    tmp_list, columns=[\"ebird_code\", \"resampled_filename\", \"file_path\"])\n",
    "\n",
    "del tmp_list\n",
    "\n",
    "# train_all = pd.merge(\n",
    "#     train, train_wav_path_exist, on=[\"ebird_code\", \"resampled_filename\"], how=\"inner\")\n",
    "\n",
    "# print(train.shape)\n",
    "print(train_wav_path_exist.shape)\n",
    "# print(train_all.shape)"
   ]
  },
  {
   "cell_type": "code",
   "execution_count": null,
   "metadata": {},
   "outputs": [],
   "source": []
  },
  {
   "cell_type": "code",
   "execution_count": null,
   "metadata": {},
   "outputs": [],
   "source": []
  },
  {
   "cell_type": "code",
   "execution_count": 37,
   "metadata": {},
   "outputs": [],
   "source": [
    "def _get_strength(x, file_name):\n",
    "    strength_list_train = []\n",
    "    time_dim, base_dim = x.shape[1], x.shape[0]\n",
    "    x_sum = []\n",
    "\n",
    "    for j in range(0,time_dim-100):\n",
    "        x_temp = x[:,j:j+100].sum()\n",
    "#         x_temp = x[0:84,j:j + base_dim].sum()\n",
    "        x_sum.append(x_temp)\n",
    "    x_ave = np.average(x_sum)\n",
    "    strength_list_train.append([x_sum, x_ave, file_name])\n",
    "#     print(strength_list_train)\n",
    "    return strength_list_train"
   ]
  },
  {
   "cell_type": "code",
   "execution_count": 38,
   "metadata": {},
   "outputs": [],
   "source": [
    "def decide_start_pos(strength_list):\n",
    "\n",
    "    x_sum = strength_list[0][0]\n",
    "    x_ave = strength_list[0][1]\n",
    "#     print(len(x_sum))\n",
    "\n",
    "    flag = True\n",
    "    while flag:\n",
    "        crop = random.randint(0, int(len(x_sum)-313))\n",
    "        crop_max = np.max(x_sum[crop:crop+313])\n",
    "        # all 0\n",
    "                       \n",
    "        if crop_max > x_ave:\n",
    "            flag = False\n",
    "    return crop"
   ]
  },
  {
   "cell_type": "code",
   "execution_count": 42,
   "metadata": {},
   "outputs": [
    {
     "name": "stderr",
     "output_type": "stream",
     "text": [
      "0it [00:00, ?it/s]"
     ]
    },
    {
     "name": "stdout",
     "output_type": "stream",
     "text": [
      "(128, 879)\n",
      "779\n"
     ]
    },
    {
     "name": "stderr",
     "output_type": "stream",
     "text": [
      "\n"
     ]
    }
   ],
   "source": [
    "save_dir = '/home/knikaido/work/Cornell-Birdcall-Identification/data/birdsong-resampled-train-audio-hpss-npz/'\n",
    "sr=32000\n",
    "strength_lists = []\n",
    "for i, file_name in tqdm(enumerate(train_wav_path_exist['file_path'])):\n",
    "#     try:\n",
    "    y, sr = sf.read(file_name)\n",
    "\n",
    "    melspec = librosa.feature.melspectrogram(y, sr=sr, fmin=20, fmax=16000)\n",
    "    melspec = librosa.power_to_db(melspec).astype(np.float32)\n",
    "#     plt.figure(figsize=(8, 4))\n",
    "#     plt.imshow(melspec)\n",
    "    strength_list = _get_strength(melspec, file_name)\n",
    "    strength_lists.append(np.array(strength_list[0]))\n",
    "    print(melspec.shape)\n",
    "    print(len(strength_list[0][0]))\n",
    "#     plt.figure(figsize=(8, 4))\n",
    "#     plt.plot(strength_list[0][0])\n",
    "#     idx = decide_start_pos(strength_list)\n",
    "    \n",
    "#     plt.vlines([idx], np.min(strength_list[0][0]), np.max(strength_list[0][0]), \"blue\", linestyles='dashed') \n",
    "#     plt.vlines([idx+313], np.min(strength_list[0][0]), np.max(strength_list[0][0]), \"blue\", linestyles='dashed') \n",
    "    \n",
    "#     plt.figure(figsize=(8, 4))\n",
    "#     plt.vlines([512*idx], -1, 1, \"blue\", linestyles='dashed') \n",
    "#     plt.vlines([512*(idx+313)], -1, 1, \"blue\", linestyles='dashed') \n",
    "#     plt.plot(y)\n",
    "#     print(idx)\n",
    "    break\n",
    "\n",
    "        \n",
    "        \n",
    "#         save_path = save_dir + file_name.split('/', 7)[-1]\n",
    "#         print(save_path[:-4])\n",
    "#     if(i==5):break\n",
    "#         my_makedirs(save_path)\n",
    "#         np.save(save_path[:-4], y.astype('float32'))\n",
    "#     except:\n",
    "#         print('err!!!' + file_name)"
   ]
  },
  {
   "cell_type": "code",
   "execution_count": 33,
   "metadata": {},
   "outputs": [
    {
     "data": {
      "text/plain": [
       "'/home/knikaido/work/Cornell-Birdcall-Identification/data/birdsong-resampled-train-audio-04/snobun/XC299754.wav'"
      ]
     },
     "execution_count": 33,
     "metadata": {},
     "output_type": "execute_result"
    }
   ],
   "source": [
    "train_wav_path_exist['file_path'][21374]"
   ]
  },
  {
   "cell_type": "code",
   "execution_count": null,
   "metadata": {},
   "outputs": [],
   "source": []
  },
  {
   "cell_type": "code",
   "execution_count": null,
   "metadata": {},
   "outputs": [],
   "source": []
  },
  {
   "cell_type": "code",
   "execution_count": null,
   "metadata": {},
   "outputs": [],
   "source": []
  },
  {
   "cell_type": "code",
   "execution_count": null,
   "metadata": {},
   "outputs": [],
   "source": []
  },
  {
   "cell_type": "code",
   "execution_count": 40,
   "metadata": {},
   "outputs": [],
   "source": [
    "np.save('./strangh_lists.npy', np.array(strength_lists))"
   ]
  },
  {
   "cell_type": "code",
   "execution_count": null,
   "metadata": {},
   "outputs": [],
   "source": []
  },
  {
   "cell_type": "code",
   "execution_count": null,
   "metadata": {},
   "outputs": [],
   "source": []
  }
 ],
 "metadata": {
  "kernelspec": {
   "display_name": "Python 3",
   "language": "python",
   "name": "python3"
  },
  "language_info": {
   "codemirror_mode": {
    "name": "ipython",
    "version": 3
   },
   "file_extension": ".py",
   "mimetype": "text/x-python",
   "name": "python",
   "nbconvert_exporter": "python",
   "pygments_lexer": "ipython3",
   "version": "3.6.10"
  }
 },
 "nbformat": 4,
 "nbformat_minor": 4
}
